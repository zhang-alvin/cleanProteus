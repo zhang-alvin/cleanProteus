{
 "cells": [
  {
   "cell_type": "markdown",
   "metadata": {},
   "source": [
    "## notebook for testing entropy viscosity refactoring "
   ]
  },
  {
   "cell_type": "code",
   "execution_count": null,
   "metadata": {
    "collapsed": true
   },
   "outputs": [],
   "source": [
    "import  math\n",
    "import  numpy as  np\n",
    "from proteus.iproteus import *\n",
    "Profiling.logLevel=5\n",
    "Profiling.verbose=True\n",
    "import proteus as pr\n",
    "import cev_utils"
   ]
  },
  {
   "cell_type": "code",
   "execution_count": null,
   "metadata": {
    "collapsed": false
   },
   "outputs": [],
   "source": [
    "reload(cev_utils)"
   ]
  },
  {
   "cell_type": "markdown",
   "metadata": {},
   "source": [
    "## do enough to setup a numerical solution with necessary infrastructure "
   ]
  },
  {
   "cell_type": "markdown",
   "metadata": {},
   "source": [
    "### define the problem"
   ]
  },
  {
   "cell_type": "code",
   "execution_count": null,
   "metadata": {
    "collapsed": true
   },
   "outputs": [],
   "source": [
    "class LA(TransportCoefficients.TC_base):\n",
    "    \"\"\"\n",
    "    The coefficients of the linear advection-diffusion equation\n",
    "    \"\"\"\n",
    "    def __init__(self):\n",
    "        TransportCoefficients.TC_base.__init__(self,\n",
    "                                               nc=1, #number of components\n",
    "                                               variableNames=['u'],\n",
    "                                               mass      = {0:{0:'linear'}},\n",
    "                                               advection = {0:{0:'nonlinear'}})#,\n",
    "                                               #diffusion = {0:{0:{0:'constant'}}},\n",
    "                                               #potential = {0:{0:'u'}})\n",
    "\n",
    "    def evaluate(self,t,c):\n",
    "        c[('m',0)][:]         = c[('u',0)]\n",
    "        c[('dm',0,0)][:]      = 1.0\n",
    "        c[('f',0)][...,0]     = -2.0*math.pi*c['x'][...,1]*c[('u',0)]\n",
    "        c[('f',0)][...,1]     =  2.0*math.pi*c['x'][...,0]*c[('u',0)]\n",
    "        c[('df',0,0)][...,0]  = -2.0*math.pi*c['x'][...,1]\n",
    "        c[('df',0,0)][...,1]  =  2.0*math.pi*c['x'][...,0]\n"
   ]
  },
  {
   "cell_type": "markdown",
   "metadata": {},
   "source": [
    "### physics"
   ]
  },
  {
   "cell_type": "code",
   "execution_count": null,
   "metadata": {
    "collapsed": true
   },
   "outputs": [],
   "source": [
    "from proteus import default_p as p\n",
    "#physics\n",
    "p.name = \"la\"\n",
    "p.nd = 2; #Two dimensions\n",
    "box=Domain.RectangularDomain(L=(2.0,2.0),\n",
    "                             x=(-1.0,-1.0),\n",
    "                             name=\"la\");\n",
    "box.writePoly(\"la\")\n",
    "p.domain=Domain.PlanarStraightLineGraphDomain(fileprefix=\"la\")\n",
    "\n",
    "p.T=0.005\n",
    "\n",
    "p.coefficients=LA()\n",
    "\n",
    "def getDBC(x,flag):\n",
    "    return None\n",
    "#    if flag in ['left','right','top','bottom']:\n",
    "#        return lambda x,t: 0.0\n",
    "\n",
    "def getAFBC(x,flag):\n",
    "    if flag in ['left','right','top','bottom']:\n",
    "        return lambda x,t: 0.0\n",
    "\n",
    "p.dirichletConditions = {0:getDBC}\n",
    "p.advectiveFluxBoundaryConditions = {0:getAFBC}\n",
    "\n",
    "class IC_3B:\n",
    "    def __init__(self,\n",
    "                 xd=(0,0.5),\n",
    "                 xc=(0,-0.5),\n",
    "                 xh=(-0.5,0),\n",
    "                 r0=0.3):\n",
    "        self.xd=np.array(xd+(0.0,))\n",
    "        self.xc=np.array(xc+(0.0,))\n",
    "        self.xh=np.array(xh+(0.0,))\n",
    "        self.r0=r0\n",
    "    def g(self, r):\n",
    "        from math import cos, pi\n",
    "        return (1.+cos(pi*min(r/self.r0,1.)))/4.0\n",
    "    def uOfXT(self,x, t):\n",
    "        from math import fabs\n",
    "        import numpy as  np\n",
    "        from numpy.linalg import norm\n",
    "        x=np.array(x)\n",
    "        rd = norm(x-self.xd)\n",
    "        rc = norm(x-self.xc)\n",
    "        rh = norm(x-self.xh)\n",
    "        if ( rd <= self.r0 and\n",
    "             (fabs(x[0]) >= 0.05 or x[1] >= 0.7)):\n",
    "            return 1.0\n",
    "        elif rc <= self.r0:\n",
    "            return 1. - rc/self.r0\n",
    "        elif rh <= self.r0:\n",
    "            return self.g(rh)\n",
    "        else:\n",
    "            return 0.0\n",
    "\n",
    "p.initialConditions  = {0:IC_3B()}\n",
    "\n"
   ]
  },
  {
   "cell_type": "markdown",
   "metadata": {},
   "source": [
    "### numerics"
   ]
  },
  {
   "cell_type": "code",
   "execution_count": null,
   "metadata": {
    "collapsed": false
   },
   "outputs": [],
   "source": [
    "from proteus import default_n as n\n",
    "\n",
    "timeOrder=1; spaceOrder=1\n",
    "he = 0.05\n",
    "n.triangleOptions=\"VApq33Dena%8.8f\" % (he**2/2.0,)\n",
    "n.timeIntegration = pr.TimeIntegration.LinearSSPRKintegration\n",
    "n.nStagesTime = 1\n",
    "n.stepController = pr.StepControl.Min_dt_RKcontroller\n",
    "n.runCFL=0.33\n",
    "\n",
    "n.femSpaces = {0:pr.FemTools.C0_AffineLinearOnSimplexWithNodalBasis}\n",
    "n.elementQuadrature = pr.Quadrature.SimplexLobattoQuadrature(p.nd,1)\n",
    "n.elementBoundaryQuadrature = pr.Quadrature.SimplexLobattoQuadrature(p.nd-1,1)\n",
    "n.subgridError = pr.SubgridError.AdvectionLag_ASGS(p.coefficients,\n",
    "                                                   p.nd,\n",
    "                                                   lag=False)\n",
    "\n",
    "n.shockCapturing = pr.ShockCapturing.ResGradQuadDelayLag_SC(p.coefficients,\n",
    "                                                            p.nd,\n",
    "                                                            shockCapturingFactor=0.0,\n",
    "                                                            nStepsToDelay=1,\n",
    "                                                            lag=False)\n",
    "n.numericalFluxType = pr.NumericalFlux.Advection_DiagonalUpwind_exterior\n",
    "n.nDTout=1\n",
    "n.tnList=[float(i)*p.T/float(n.nDTout) for i in range(n.nDTout+1)]\n",
    "n.matrix = pr.LinearAlgebraTools.SparseMatrix\n",
    "n.multilevelLinearSolver = pr.LinearSolvers.LU\n",
    "n.l_atol_res = 0.0\n",
    "n.linTolFac = 0.001\n",
    "n.tolFac = 0.0\n",
    "n.nl_atol_res = 1.0e-4\n",
    "n.maxNonlinearIts =1\n",
    "n.maxLineSearches =0\n",
    "n.parallelPartitioningType = pr.MeshTools.MeshParallelPartitioningTypes.node\n",
    "n.nLayersOfOverlapForParallel = 0\n",
    "n.periodicDirichletConditions = None\n"
   ]
  },
  {
   "cell_type": "markdown",
   "metadata": {},
   "source": [
    "### operator splitting"
   ]
  },
  {
   "cell_type": "code",
   "execution_count": null,
   "metadata": {
    "collapsed": true
   },
   "outputs": [],
   "source": [
    "from proteus import default_s,default_so\n",
    "so = default_so\n",
    "p.name += \"k{0}_p{1}_h{2}\".format(timeOrder,spaceOrder,he)\n",
    "\n",
    "so.name = p.name\n",
    "so.sList=[default_s]\n",
    "so.tnList = n.tnList\n",
    "from proteus.Archiver import ArchiveFlags\n",
    "so.archiveFlag = ArchiveFlags.EVERY_USER_STEP\n",
    "so.systemStepControllerType = SplitOperator.Sequential_MinAdaptiveModelStep\n"
   ]
  },
  {
   "cell_type": "markdown",
   "metadata": {},
   "source": [
    "## initialize the numerical solution and grab a pointer to the model"
   ]
  },
  {
   "cell_type": "code",
   "execution_count": null,
   "metadata": {
    "collapsed": false
   },
   "outputs": [],
   "source": [
    "ns = NumericalSolution.NS_base(so,[p],[n],so.sList,opts)\n",
    "model = ns.modelList[0].levelModelList[-1]"
   ]
  },
  {
   "cell_type": "markdown",
   "metadata": {},
   "source": [
    "### run the model for a few steps to make sure all the necessary data structures are available"
   ]
  },
  {
   "cell_type": "code",
   "execution_count": null,
   "metadata": {
    "collapsed": false
   },
   "outputs": [],
   "source": [
    "failed = ns.calculateSolution('la_k{0}_p{1}_h{2}'.format(timeOrder,spaceOrder,he))\n",
    "assert(not failed)\n"
   ]
  },
  {
   "cell_type": "markdown",
   "metadata": {},
   "source": [
    "### Test b_ij generation"
   ]
  },
  {
   "cell_type": "code",
   "execution_count": null,
   "metadata": {
    "collapsed": false
   },
   "outputs": [],
   "source": [
    "model.use_bij"
   ]
  },
  {
   "cell_type": "code",
   "execution_count": null,
   "metadata": {
    "collapsed": false
   },
   "outputs": [],
   "source": [
    "\n"
   ]
  },
  {
   "cell_type": "markdown",
   "metadata": {
    "collapsed": true
   },
   "source": [
    "What about just using the mesh information"
   ]
  },
  {
   "cell_type": "code",
   "execution_count": null,
   "metadata": {
    "collapsed": false
   },
   "outputs": [],
   "source": [
    "b_copy = model.b.copy(); b_copy.fill(0.)\n",
    "b_copy = cev_utils.build_graph_laplacian_element(np.sum(model.q['dV'],1),b_copy,model.nDOF_trial_element[0])\n",
    "assert np.allclose(model.b,b_copy)\n"
   ]
  },
  {
   "cell_type": "code",
   "execution_count": null,
   "metadata": {
    "collapsed": true
   },
   "outputs": [],
   "source": []
  }
 ],
 "metadata": {
  "kernelspec": {
   "display_name": "Python 2",
   "language": "python",
   "name": "python2"
  },
  "language_info": {
   "codemirror_mode": {
    "name": "ipython",
    "version": 2
   },
   "file_extension": ".py",
   "mimetype": "text/x-python",
   "name": "python",
   "nbconvert_exporter": "python",
   "pygments_lexer": "ipython2",
   "version": "2.7.9"
  }
 },
 "nbformat": 4,
 "nbformat_minor": 0
}
