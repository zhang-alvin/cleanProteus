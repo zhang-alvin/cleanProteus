{
 "cells": [
  {
   "cell_type": "markdown",
   "metadata": {},
   "source": [
    "# Entropy Viscosity approximation from Guermond, Nazarov _et al_ 2014"
   ]
  },
  {
   "cell_type": "markdown",
   "metadata": {},
   "source": [
    "TODO:\n",
    "- Fix A2 implementation so that it doens't require the same sparsity pattern _and_ storage order as MB?\n"
   ]
  },
  {
   "cell_type": "markdown",
   "metadata": {},
   "source": [
    "We will try to apply the maximum principle preserving entropy viscosity method from Guermond et al 2014 (SINUM) to a simple linear advection (diffusion) problem\n",
    "$$\n",
    "\\frac{\\partial u}{\\partial t} + \\frac{\\partial f}{\\partial x}  -\\frac{\\partial}{dx}\\left(a\\frac{\\partial u}{\\partial x}\\right)=0 \\\\\n",
    "f(u) = uv\n",
    "$$\n",
    "over the space-time interval $[0,L_x] \\times [0,T]$ with boundary and initial conditions\n",
    "\\begin{align*}\n",
    "u(x,0) &= u^0 \\\\\n",
    "u(t) &= u^b, \\mbox{ for } x \\in \\partial \\Omega_d = \\{0\\} \\\\\n",
    "\\left.\\frac{\\partial u}{\\partial x}\\right. n &= 0, \\mbox{ for } \\in \\partial \\Omega_o \n",
    "\\end{align*}\n",
    "\n"
   ]
  },
  {
   "cell_type": "markdown",
   "metadata": {},
   "source": [
    "## The standard Galerkin weak form \n",
    "Partioning the interval $[0,L_x]$ into $N_n-1$ cells with $N_n$ nodes, we have the usual discrete, Galerkin weak form in the interior\n",
    "$$\n",
    "\\int_{\\Omega}\\frac{\\partial u_{h}}{\\partial t} w_{h,I} dx - \\int_{\\Omega} f \\frac{dw_{h,I}}{dx} dx + \\int_{\\Omega} a\\frac{du_h}{dx}\\frac{dw_{h,I}}{dx} dx = 0, \\mbox{ for } I =1,\\dots,N_n-2\n",
    "$$\n",
    "For the left (Dirichlet boundary) we have\n",
    "\\begin{align}\n",
    "\\left[u_{h,0} - u^b(0,t)\\right]w_{h,0}(x=0) &= 0 \\\\\n",
    "\\end{align}\n",
    "For the right, we have \n",
    "\\begin{align}\n",
    "\\int_{\\Omega}\\frac{\\partial u_{h}}{\\partial t} w_{h,I} dx - \\int_{\\Omega} f \\frac{dw_{h,I}}{dx} dx + f(x=L_x)w_{h,I} = 0, \\mbox{ for } I =N_n-1\n",
    "\\end{align}\n",
    "where we've written the nodal Lagrange test and trial functions as $w_{h,I}, \\ I=1,...,N$ \n"
   ]
  },
  {
   "cell_type": "markdown",
   "metadata": {},
   "source": [
    "## viscous stabilization\n",
    "The approach from Guermond et al assumes first that there is a low-order approximation that is based (I am pretty sure) on the generalization of the Lax viscosity from traditional finite volume approximations. This low-order viscosity preserves the maximum principle for the (scalar) PDE. Guermond then combines the low-order approximation with  a ''higher order'' entropy viscosity. Both viscosities are used with the graph Laplacian rather than the traditional bilinear form for diffusion\n",
    "\n",
    "The graph Laplacian on element $\\Omega_e$ can be written\n",
    "\\begin{equation}\n",
    "b_{e}(w_{h,j},w_{h,i}) = \\left\\{\n",
    "\\begin{array}{ll} -\\frac{1}{n_e}|\\Omega_e|,  & i \\ne j, \\ i,j \\in \\mathcal{I}(\\Omega_e) \\\\\n",
    " |\\Omega_e|, &  i = j, \\ i,j \\in \\mathcal{I}(\\Omega_e) \\\\\n",
    "   0, & \\mbox{ otherwise} \n",
    "\\end{array}\\right.\n",
    "\\end{equation}\n",
    "\n",
    "rather than the usual 'diffusion' bilinear form\n",
    "$$\n",
    "b_{e}(w_{h,j},w_{h,i}) = \\int_{\\Omega_e}\\frac{d w_{h,j}}{d x}\\frac{d w_{h,i}}{d x}dx\n",
    "$$\n",
    "Here $\\mathcal{I}(\\Omega_e)$ is the set of indices for shape functions that have non-zero support over $\\Omega_e$, and $n_{e}$ is the number of shape functions that have non-zero support on $\\Omega_e$ ($n_d+1$ for $P^1$ shape functions on simplices).\n"
   ]
  },
  {
   "cell_type": "markdown",
   "metadata": {},
   "source": [
    "## low-order viscosity\n",
    "The general definition of the low-order viscosity is \n",
    "\\begin{align}\n",
    "\\nu_{e}^{L,n} &= \\max_{i\\ne j \\in \\mathcal{I}(\\Omega_e)} \\frac{\\max\\left[0,\\int_{S_{ij}}\\left(\\vec {f^{'}}(u^n_h)\\cdot \\nabla w_{h,j}\\right)w_{h,i}dx\\right]}{\\sum_{\\Omega_{\\ell}\\subset S_{ij}} -b_{\\ell}\\left(w_{h,j},w_{h,i}\\right)}\n",
    "\\end{align}\n",
    "Here, we denote the support of shape function $i$ as $S_{i}$, and $S_{ij}$ is the intersection of the support for shape function $i$ and shape function $j$.\n",
    "\n",
    "If we define the local advection matrix for an integrated by parts approximation as \n",
    "$$\n",
    "C_{e,ij} = \\int_{\\Omega_e}\\frac{d w_{h,i}}{dx}  w_{h,j} dx\n",
    "$$\n",
    "In our 1d example, the denominator is just $|\\Omega_e|$. For now, I'll interpret the integral as computing the maximum wave speed (magnitude) along the direction $C_{ji}$ for $i\\ne j$. That is $C_{01}$ and $C_{10}$, where we use the local numbering $0,1$ for the left and right nodes on $\\Omega_e$. These are $-1/2$ and $1/2$, respectively. \n",
    "\n",
    "In other words, I'll use the following formula for the low-order viscosity\n",
    "\\begin{align}\n",
    "\\nu_{e}^{L,n} &= \\frac{\\max\\left[0,\\max\\left(f^{'}(U_0),f^{'}(U_1)\\right),-\\min\\left(f^{'}(U_0),f^{'}(U_1)\\right)\\right]}{2|\\Omega_e|}\n",
    "\\end{align}\n"
   ]
  },
  {
   "cell_type": "markdown",
   "metadata": {},
   "source": [
    "Again, following Guermond et al, we will use a forward Euler approximation with mass lumping. This leads to the simple update at time $t^{n+1}$\n",
    "\n",
    "\\begin{align}\n",
    "U_{L,I}^{n+1} &= U_{I}^{n} - \\Delta t^{n}m_{I}^{-1}\\sum_{\\Omega_e \\subset S_{I}}\\left[\\nu_{e}^{L,n}b_{e}(u^n_h,w_{h,I})\n",
    "- \\int_{\\Omega_e}\\vec{f}(u^{n}_h) \\nabla w_{h,I}dx \\right] + \\mbox{ BCs }\n",
    "\\end{align}\n",
    "where $m_I = \\int_{S_I}w_{h,I}dx$. Note also that we've integrated the advection term by parts above.\n",
    "\n",
    "The CFL constraint for the low-order update is \n",
    "\\begin{align}\n",
    "\\frac{\\beta^n \\Delta t^n}{h} \\le \\frac{1}{\\lambda \\left(1 + \\rho^{-1}\\right)} \n",
    "\\end{align}\n",
    "where $\\beta$ is a global bound on the maximum wave speed $\\|\\vec {f^{'}}\\|$, $h$ a global minimum element diameter, $\\lambda$ is a measure of the 'positivity' of the shape functions (see eqns 2.3, 2.4 in Guermond et al) that is always 1 if the shape functions are non-negative, and \n",
    "$$\n",
    "\\rho = \\min_{\\Omega e}\\frac{1}{n_{e}-1}\n",
    "$$\n",
    "We see that in our simple case, the CFL condition is \n",
    "\\begin{align}\n",
    "\\frac{\\beta^n \\Delta t^n}{h} \\le \\frac{1}{2}\n",
    "\\end{align}"
   ]
  },
  {
   "cell_type": "markdown",
   "metadata": {},
   "source": [
    "We can also write the scheme as a global update\n",
    "\\begin{align}\n",
    "\\mathbf{U}^{n+1}_{L} = \\mathbf{U}^{n} - \\Delta t^{n}\\mathbf{M}^{-1}_{L}\\left(\\mathbf{B}^n\\mathbf{U}^n + \\mathbf{K}\\mathbf{U}^n - \\mathbf{C}\\mathbf{f}^n\\right)+ \\mathbf{d}_{o}^{n+1}\n",
    "\\end{align}\n",
    "where\n",
    "\\begin{align}\n",
    "f^n_{J} &= f(u^n_J,x_J,t^n) \\\\\n",
    "d^n_{o,I} &= -f^n(u^n_{I},x_I,t^n)(\\pm1), \\ x_{I} \\in \\partial \\Omega^n_{out} \\\\ \n",
    "K_{IJ} &= \\int_{\\Omega} a\\frac{dw_{h,J}}{dx}\\frac{dw_{h,I}}{dx}dx \\\\\n",
    "C_{IJ} &= \\int_{\\Omega}\\frac{ d w_{h,I}}{d x}  w_{h,J} dx\n",
    "\\end{align}\n",
    "and the nonzero terms of the assembled graph Laplacian operator are\n",
    "\\begin{align}\n",
    "B^n_{II-1} &= -|\\Omega_{I-1}|\\nu^{n}_{I-1} \\\\\n",
    "B^n_{II+1} &= -|\\Omega_{I}|\\nu^n_{I} \\\\\n",
    "B^n_{II}   &= |\\Omega_{I-1}|\\nu^n_{I-1} + |\\Omega_{I}|\\nu^n_{I}\n",
    "\\end{align}\n",
    "\n",
    "We'll also try just enforcing the Dirichlet constraints after the update via (symbolically)\n",
    "\\begin{align}\n",
    "\\mathbf{D}^{n+1} \\mathbf{U}^{n+1} &= \\mathbf{d}^{n+1}, \\mbox{ where } \\\\\n",
    "D^{n}_{IJ} &= \\delta_{IJ}, \\mbox{ for } x_{I} \\in \\partial \\Omega^n_d \\\\\n",
    "d^n_{I} &= u^b(x_I,t^n), \\ x_{I} \\in \\partial \\Omega^n_d \\\\\n",
    "\\end{align}\n"
   ]
  },
  {
   "cell_type": "markdown",
   "metadata": {},
   "source": [
    "## entropy viscosity stabilization\n",
    "For the scalar conservation equation\n",
    "\\begin{align}\n",
    "\\frac{\\partial u}{\\partial t} + \\frac{\\partial f}{\\partial x} =0 \\\\\n",
    "\\end{align}\n",
    "we assume we have an entropy, $\\eta$, and entropy flux, $\\psi$, that satisfy\n",
    "\\begin{align}\n",
    "\\frac{d\\psi}{du} &= \\frac{d\\eta}{du}\\frac{df}{du}\n",
    "\\end{align}\n",
    "In our linear advection example, we can define $\\eta=1/2u^2$ and $\\psi=vu^2/2$ or set $\\eta= \n",
    "-\\ln(|(u(1.-u)|+10^{-10})$. \n",
    "\n",
    "A basic obervation that motivates using the entropy to scale numerical viscosity is the fact that when $u$ is continuously differentiable, $\\eta$ and $\\psi$ satisfy\n",
    "\\begin{align}\n",
    "\\frac{\\partial \\eta}{\\partial t} + \\frac{\\partial \\psi}{\\partial x} &= \\frac{d\\eta}{du}\\frac{\\partial u}{\\partial t} \n",
    "+ \\frac{d \\psi}{d u}\\frac{\\partial u}{\\partial x} = \\frac{d \\eta}{d u}\\left(\\frac{\\partial u}{\\partial t} +\\frac{\\partial f}{\\partial x}\\right) = 0\n",
    "\\end{align}\n",
    "More generally, if $\\eta$ is a convex function and we have a vanishing viscosity solution $u_{\\epsilon}$ to\n",
    "\\begin{align}\n",
    "\\frac{\\partial u}{\\partial t} + \\frac{\\partial f}{\\partial x} =\\epsilon\\frac{\\partial^2u_{\\epsilon}}{\\partial x^2} \\\\\n",
    "\\end{align}\n",
    "that converges (almost everwhere in $x$ and $t$) to $u$, then we can define the inequality\n",
    "\\begin{align}\n",
    "\\frac{\\partial \\eta}{\\partial t} + \\frac{\\partial \\psi}{\\partial x} \\le 0\n",
    "\\end{align}\n",
    "In other words if the inequality above holds everywhere for a solution $u$, as it converges it will converge to the vanishing viscosity solution.\n",
    "\n",
    "At a discontinuity for $u$, the above observations imply that there will be a source term in the entropy equation that force it to be an inequality. More precisely, if there is an isolated discontinuity at $x(t)$ moving with speed $\\sigma = dx/dt$ then there will be a jump in $\\eta$ and $\\psi$ that satisfies\n",
    "\\begin{align}\n",
    "[\\psi] \\le [\\eta]\\sigma\n",
    "\\end{align}"
   ]
  },
  {
   "cell_type": "markdown",
   "metadata": {},
   "source": [
    "To go about defining the _entropy viscosity_, we first label the entropy residual over $\\Omega_e$ as \n",
    "\\begin{align}\n",
    "R_{e} &= \\left\\|\\frac{\\partial \\eta}{\\partial t} + \\frac{\\partial \\psi}{\\partial x}\\right\\|_{L^{\\infty}(\\Omega_e)} \\\\\n",
    "&= \\left\\|\\frac{\\partial \\eta}{\\partial t} + f^{'}\\frac{\\partial \\eta}{\\partial x}\\right\\|_{L^{\\infty}(\\Omega_e)}\n",
    "\\end{align}\n",
    "Using a forward Euler approximation for the time derivative, we have at time $t^n$\n",
    "\\begin{align}\n",
    "R^n_{e} &= \\left\\|\\frac{\\eta^{n}-\\eta^{n-1}}{\\Delta t^{n-1}} + f^{'}\\frac{\\partial \\eta}{\\partial x}\\right\\|_{L^{\\infty}(\\Omega_e)}\n",
    "\\end{align}\n",
    "I'll go ahead and try to evaluate $R_e$ at the nodes,\n",
    "\\begin{align}\n",
    "R^n_{e,i} &= \\left\\|\\frac{\\eta(U^{n}_{i})-\\eta(U^{n-1}_{i})}{\\Delta t^{n-1}} + f^{'}(U^n_i)\\frac{\\partial \\eta_e}{\\partial x}\\right\\|_{L^{\\infty}(\\Omega_e)}, i=0,1\n",
    "\\end{align}\n",
    "which for our nodal Lagrange approximation is just\n",
    "\\begin{align}\n",
    "R^n_{e,i} &= \\left\\|\\frac{\\eta(U^{n}_{i})-\\eta(U^{n-1}_{i})}{\\Delta t^{n-1}} + f^{'}(U^n_i)\\frac{\\eta(U^n_1)-\\eta(U^n_0)}{h_e}\\right\\|_{L^{\\infty}(\\Omega_e)}\n",
    "\\end{align}"
   ]
  },
  {
   "cell_type": "markdown",
   "metadata": {},
   "source": [
    "Guermond et al also include an edge stabilization term \n",
    "\\begin{align}\n",
    "J^n_F(u_h) &= \\left\\|\\vec {f^{'}}\\cdot \\vec n\\left[\\!\\left[\\partial_n\\eta(u_h)\\right]\\!\\right]\\right\\|_{\\;L^{\\infty}(F)}\n",
    "\\end{align}\n",
    "In 1d, I'll start with the interpretation of the normal jump at node I (the right boundary to $\\Omega_{I-1}$)\n",
    "\\begin{align}\n",
    "\\partial_n\\eta_{I} &= \\left.\\frac{\\partial \\eta}{\\partial x}\\right|_{I} - \\left.\\frac{\\partial \\eta}{\\partial x}\\right|_{I-1} \\\\\n",
    "&= \\frac{\\eta(U_{I+1})-\\eta(U_{I})}{h_{e,I}} - \\frac{\\eta(U_{I})-\\eta(U_{I-1})}{h_{e,I-1}}, \\; I=1,\\dots,N_x-2\n",
    "\\end{align}\n",
    "\n",
    "The final high-order viscosity is \n",
    "\\begin{align}\n",
    "\\nu^{H,n}_e &= \\min\\left(\\nu^{L,n}_e, \\frac{c_E R^n_e + C_J\\max_{F\\subset\\partial \\Omega_e}J^n_{F}}{\\left\\|\\eta(u^n_h)-\\bar{\\eta}(u^n_{h})\\right\\|_{L^{\\infty}(\\Omega)}}\\right)\n",
    "\\end{align}"
   ]
  },
  {
   "cell_type": "markdown",
   "metadata": {},
   "source": [
    "### Approximating the consisten mass matrix update\n",
    "The tradeoffs of a lumped versus consistent mass matrix are well known. Kuzmin applies flux-corrected transport (FCT) ideas to control the amount of negative diffusion introduced by the off-diagonal terms in the consistent mass matrix. Guermond et al introduce an approximate inverse. Specifically, they define $\\mathbf{\\mathcal{B}}=(\\mathbf{M}^L-\\mathbf{M}^C)(\\mathbf{M}^L)^{-1}$, where $\\mathbf{M}^{L,C}$ are the lumped and consistent mass matrices, respectively. The consistent mass inverse can be approximated formally as\n",
    "\\begin{align}\n",
    "\\left(\\mathbf{M}^C\\right)^{-1} &= \\left(\\mathbf{M}^L\\right)^{-1}\\left(\\mathbf{I}+\\mathbf{\\mathcal{B}} + \\mathbf{\\mathcal{B}}^2 + \\dots\\right)\n",
    "\\end{align}\n",
    "\n",
    "We can then write the global update for the high-order approximation\n",
    "\\begin{align}\n",
    "\\mathbf{U}^{n+1}_{H} = \\mathbf{U}^{n} - \\Delta t^{n}\\mathbf{M}^{-1}_{L}\\left(\\mathbf{I}+\\mathbf{\\mathcal{B}}\\right)\n",
    "\\left(\\mathbf{B}^n\\mathbf{U}^n + \\mathbf{K}\\mathbf{U}^n - \\mathbf{C}\\mathbf{f}^n\\right)+ \\mathbf{d}_{o}^{n+1}\n",
    "\\end{align}\n",
    "\n",
    "We'll also again try just enforcing the Dirichlet constraints after the update via (symbolically)\n",
    "\\begin{align}\n",
    "\\mathbf{D}^{n+1} \\mathbf{U}^{n+1} &= \\mathbf{d}^{n+1}, \\mbox{ where } \\\\\n",
    "D^{n}_{IJ} &= \\delta_{IJ}, \\mbox{ for } x_{I} \\in \\partial \\Omega^n_d \\\\\n",
    "d^n_{I} &= u^b(x_I,t^n), \\ x_{I} \\in \\partial \\Omega^n_d \\\\\n",
    "\\end{align}\n",
    "\n"
   ]
  },
  {
   "cell_type": "code",
   "execution_count": null,
   "metadata": {
    "collapsed": true
   },
   "outputs": [],
   "source": [
    "%matplotlib inline\n",
    "import numpy as np\n",
    "import scipy\n",
    "from scipy import linalg,sparse\n",
    "from scipy.sparse import linalg\n",
    "import matplotlib.pyplot as plt"
   ]
  },
  {
   "cell_type": "code",
   "execution_count": null,
   "metadata": {
    "collapsed": true
   },
   "outputs": [],
   "source": [
    "import ev_utils as ev"
   ]
  },
  {
   "cell_type": "code",
   "execution_count": null,
   "metadata": {
    "collapsed": false
   },
   "outputs": [],
   "source": [
    "reload(ev)"
   ]
  },
  {
   "cell_type": "markdown",
   "metadata": {
    "collapsed": false
   },
   "source": [
    "### now grab the cython routines from cev_utils\n",
    "To compile you should be able to type\n",
    "```\n",
    "python setuppyx.py build_ext --inplace\n",
    "```"
   ]
  },
  {
   "cell_type": "code",
   "execution_count": null,
   "metadata": {
    "collapsed": true
   },
   "outputs": [],
   "source": [
    "import cev_utils as cev"
   ]
  },
  {
   "cell_type": "markdown",
   "metadata": {},
   "source": [
    "## Define the problem domain and flux functions"
   ]
  },
  {
   "cell_type": "code",
   "execution_count": null,
   "metadata": {
    "collapsed": true
   },
   "outputs": [],
   "source": [
    "#for collecting solutions and nonlinear portion of the residual\n",
    "uh_save ={}\n",
    "visc_save={}\n",
    "res_ent_save={}\n",
    "tn_save = {}\n"
   ]
  },
  {
   "cell_type": "code",
   "execution_count": null,
   "metadata": {
    "collapsed": false
   },
   "outputs": [],
   "source": [
    "#spatial domain\n",
    "L=(0,3.)\n",
    "#parameters\n",
    "a0 = 0.0\n",
    "#time domain\n",
    "t0=0.\n",
    "T = 2.0\n",
    "xic_left=0.1; xic_right=0.5\n",
    "u_left =  1.0\n",
    "u_midd =  2.0\n",
    "u_right=  1.0\n",
    "velocity=1.\n",
    "def flux(u,x,t):\n",
    "    return velocity*u.copy()\n",
    "def dflux(u,x,t):\n",
    "    return velocity*np.ones(u.shape,'d')\n",
    "def entropy(u,x,t):\n",
    "    #return 0.5*u**2\n",
    "    return -np.log(np.absolute(u*(1.-u))+1.0e-10)\n"
   ]
  },
  {
   "cell_type": "markdown",
   "metadata": {},
   "source": [
    "## Initial and boundary conditions"
   ]
  },
  {
   "cell_type": "code",
   "execution_count": null,
   "metadata": {
    "collapsed": true
   },
   "outputs": [],
   "source": [
    "def uinit(x,t):\n",
    "    uic = np.zeros(x.shape); uic.fill(u_right)\n",
    "    x_support = np.logical_and(x < xic_right,x > xic_left)\n",
    "    uic[x_support]=u_midd\n",
    "    uic[np.where(x <= xic_left)]=u_left\n",
    "    return uic\n",
    "def dirichlet_bc_left(x,t,u=None):\n",
    "    x_dir = np.array([L[0]],dtype='d')\n",
    "    dir_values = np.array([u_left],dtype='d')\n",
    "    indices = [np.where(np.absolute(x-xd) < 1.0e-10)[0] for xd in x_dir]\n",
    "    return np.array(indices,dtype='i').squeeze(1),dir_values\n",
    "def dirichlet_bc_none(x,t,u=None):\n",
    "    return np.array([],dtype='i'),np.array([],dtype='d')\n",
    "#Note, the pure Neumann bc will take care of itself in the assembly of K in this case\n",
    "#but need to tell the code to add the advection term as well\n",
    "def outflow_bc_right(x,t,u=None):\n",
    "    #x_out = np.array([L[1]],dtype='d')\n",
    "    #out_normals = np.array([1.0],'d')\n",
    "    x_out = np.array([L[1]],dtype='d')\n",
    "    out_normals = np.array([1.0],'d')\n",
    "    indices = [np.where(np.absolute(x-xo) < 1.0e-10)[0] for xo in x_out]\n",
    "    return np.array(indices,dtype='i').squeeze(1),out_normals\n",
    "\n",
    "\n",
    "def outflow_bc_both(x,t,u=None):\n",
    "    #x_out = np.array([L[1]],dtype='d')\n",
    "    #out_normals = np.array([1.0],'d')\n",
    "    x_out = np.array([L[0],L[1]],dtype='d')\n",
    "    out_normals = np.array([-1.0,1.0],'d')\n",
    "    indices = [np.where(np.absolute(x-xo) < 1.0e-10)[0] for xo in x_out]\n",
    "    return np.array(indices,dtype='i').squeeze(1),out_normals\n",
    "\n",
    "dirichlet_bc=dirichlet_bc_left\n",
    "outflow_bc = outflow_bc_right"
   ]
  },
  {
   "cell_type": "code",
   "execution_count": null,
   "metadata": {
    "collapsed": true
   },
   "outputs": [],
   "source": []
  },
  {
   "cell_type": "markdown",
   "metadata": {},
   "source": [
    "## low-order viscosity\n",
    "\\begin{align}\n",
    "\\nu_{e}^{L,n} &= \\frac{\\max\\left[0,\\max\\left(f^{'}(U_0),f^{'}(U_1)\\right),\n",
    "                      -\\min\\left(f^{'}(U_0),f^{'}(U_1)\\right)\\right]}\n",
    "                      {2|\\Omega_e|}\n",
    "\\end{align}\n",
    "\n"
   ]
  },
  {
   "cell_type": "code",
   "execution_count": null,
   "metadata": {
    "collapsed": true
   },
   "outputs": [],
   "source": [
    "def low_viscosity(he,l2g,df_nodes):\n",
    "    \"\"\"\n",
    "    \\begin{align}\n",
    "    \\nu_{e}^{L,n} &= \\frac{\\max\\left[0,\\max\\left(f^{'}(U_0),f^{'}(U_1)\\right),\n",
    "                                      -\\min\\left(f^{'}(U_0),f^{'}(U_1)\\right)\\right]}\n",
    "                           {2|\\Omega_e|}\n",
    "    \\end{align}\n",
    "\n",
    "\n",
    "    \"\"\"\n",
    "    weight_a=0.5/he; weight_b=0.5/he\n",
    "    df_e = df_nodes[l2g] #map flux derivative to element wise numbering\n",
    "    df_e01 = weight_a*np.amax(df_e,1)\n",
    "    df_e10 =-weight_b*np.amin(df_e,1)\n",
    "    nu_e = np.maximum(df_e01,df_e10)\n",
    "    nu_e = np.maximum(nu_e,0.)\n",
    "    return nu_e\n",
    "\n"
   ]
  },
  {
   "cell_type": "markdown",
   "metadata": {},
   "source": [
    "## Entropy residual, $R_e$\n",
    "\\begin{align}\n",
    "R^n_{e,i} &= \\left\\|\\frac{\\eta(U^{n}_{i})-\\eta(U^{n-1}_{i})}{\\Delta t^{n-1}} + \n",
    "              f^{'}(U^n_i)\\frac{\\eta(U^n_1)-\\eta(U^n_0)}{h_e}\\right\\|_{L^{\\infty}(\\Omega_e)}\n",
    "\\end{align}\n"
   ]
  },
  {
   "cell_type": "code",
   "execution_count": null,
   "metadata": {
    "collapsed": true
   },
   "outputs": [],
   "source": [
    "def entropy_residual(he,l2g,dt,t,x,un,unm1,entropy,dflux):\n",
    "    \"\"\"\n",
    "    \\begin{align}\n",
    "    R^n_{e,i} &= \\left\\|\\frac{\\eta(U^{n}_{i})-\\eta(U^{n-1}_{i})}{\\Delta t^{n-1}} + \n",
    "                  f^{'}(U^n_i)\\frac{\\eta(U^n_1)-\\eta(U^n_0)}{h_e}\\right\\|_{L^{\\infty}(\\Omega_e)}\n",
    "    \\end{align}\n",
    "\n",
    "    \"\"\"\n",
    "    eta = entropy(un,x,t); eta_nm1 = entropy(unm1,x,t)\n",
    "    eta = eta[l2g]; eta_nm1 = eta_nm1[l2g]\n",
    "    df = dflux(un,x,t)\n",
    "    df_e  = df[l2g]\n",
    "    deta_e  = (eta[:,1]-eta[:,0])/he\n",
    "    R_e = eta-eta_nm1; R_e /= dt\n",
    "    R_e[:,0] += df_e[:,0]*deta_e; R_e[:,1] += df_e[:,1]*deta_e\n",
    " \n",
    "    return R_e\n",
    "\n",
    "\n",
    "def entropy_normalization(eta):\n",
    "    eta_bar = np.mean(eta);\n",
    "    eta_diff = eta-eta_bar\n",
    "    return np.max(np.absolute(eta_diff))\n",
    "\n"
   ]
  },
  {
   "cell_type": "markdown",
   "metadata": {},
   "source": [
    "## Edge jump, $J_f$\n",
    "\\begin{align}\n",
    " \\left[\\!\\left[\\partial_n\\eta\\right]\\!\\right]_{I} &= \n",
    " \\left.\\frac{\\partial \\eta}{\\partial x}\\right|_{I} - \n",
    " \\left.\\frac{\\partial \\eta}{\\partial x}\\right|_{I-1} \\\\\n",
    "             &= \\frac{\\eta(U_{I+1})-\\eta(U_{I})}{h_{e,I}} - \n",
    "                \\frac{\\eta(U_{I})-\\eta(U_{I-1})}{h_{e,I-1}}, \\; I=1,\\dots,N_x-2\n",
    "\\end{align}\n",
    "\n"
   ]
  },
  {
   "cell_type": "code",
   "execution_count": null,
   "metadata": {
    "collapsed": true
   },
   "outputs": [],
   "source": [
    "def edge_jump(he,l2g,eta_nodes,df_nodes):\n",
    "    \"\"\"\n",
    "    \\begin{align}\n",
    "     \\left[\\!\\left[\\partial_n\\eta\\right]\\!\\right]_{I} &= \n",
    "     \\left.\\frac{\\partial \\eta}{\\partial x}\\right|_{I} - \n",
    "     \\left.\\frac{\\partial \\eta}{\\partial x}\\right|_{I-1} \\\\\n",
    "                 &= \\frac{\\eta(U_{I+1})-\\eta(U_{I})}{h_{e,I}} - \n",
    "                    \\frac{\\eta(U_{I})-\\eta(U_{I-1})}{h_{e,I-1}}, \\; I=1,\\dots,N_x-2\n",
    "    \\end{align}\n",
    "\n",
    "    \"\"\"\n",
    "    eta_jump=np.zeros(eta_nodes.shape)\n",
    "    deta = (eta_nodes[1:]-eta_nodes[0:-1])/he\n",
    "    eta_jump[1:-1] = deta[1:]-deta[0:-1]\n",
    "    eta_jump *= df_nodes\n",
    "    return np.absolute(eta_jump)\n",
    "\n"
   ]
  },
  {
   "cell_type": "markdown",
   "metadata": {},
   "source": [
    "## High-order viscosity\n",
    "\\begin{align}\n",
    "\\nu^{H,n}_e &= \\min\\left(\\nu^{L,n}_e, \n",
    "                         \\frac{c_E R^n_e + \n",
    "                         C_J\\max_{F\\subset\\partial \\Omega_e}J^n_{F}}\n",
    "                         {\\left\\|\\eta(u^n_h)-\\bar{\\eta}(u^n_{h})\\right\\|_{L^{\\infty}(\\Omega)}}\\right)\n",
    "\\end{align}\n",
    "\n"
   ]
  },
  {
   "cell_type": "code",
   "execution_count": null,
   "metadata": {
    "collapsed": false
   },
   "outputs": [],
   "source": [
    "def high_viscosity(nu_low,Re_norm,entropy_norm,Jf,c_e=1.0,cJ=1.0,eps=1.0e-12):\n",
    "    \"\"\"\n",
    "    \\begin{align}\n",
    "    \\nu^{H,n}_e &= \\min\\left(\\nu^{L,n}_e, \n",
    "                             \\frac{c_E R^n_e + \n",
    "                             C_J\\max_{F\\subset\\partial \\Omega_e}J^n_{F}}\n",
    "                             {\\left\\|\\eta(u^n_h)-\\bar{\\eta}(u^n_{h})\\right\\|_{L^{\\infty}(\\Omega)}}\\right)\n",
    "    \\end{align}\n",
    "    \"\"\"\n",
    "    return np.minimum(nu_low,(c_e*Re_norm + cJ*Jf)/(entropy_norm+eps))\n"
   ]
  },
  {
   "cell_type": "markdown",
   "metadata": {},
   "source": [
    "## Define the discretization parameters"
   ]
  },
  {
   "cell_type": "markdown",
   "metadata": {},
   "source": [
    "Use either fixed time steps or a target Courant number"
   ]
  },
  {
   "cell_type": "code",
   "execution_count": null,
   "metadata": {
    "collapsed": false
   },
   "outputs": [],
   "source": [
    "#domain discretization and element coefficients\n",
    "Nn=151\n",
    "Ndof=Nn\n",
    "target_cfl = 0.45\n",
    "#mesh \n",
    "nodes = np.linspace(L[0],L[1],Nn)\n",
    "he = nodes[1:]-nodes[0:-1]\n",
    "dir_ind,dir_values = dirichlet_bc(nodes,t0)\n",
    "out_ind,out_normals = outflow_bc(nodes,t0)\n",
    "#mapping from local to global unknowns\n",
    "l2g = np.zeros((Nn-1,2),'i'); l2g[:,0]=np.arange(Nn-1); l2g[:,1]=np.arange(1,Nn)"
   ]
  },
  {
   "cell_type": "markdown",
   "metadata": {},
   "source": [
    "## Quick and dirty construction of global fem operators"
   ]
  },
  {
   "cell_type": "code",
   "execution_count": null,
   "metadata": {
    "collapsed": false
   },
   "outputs": [],
   "source": [
    "Mc,M,Minv,MinvH,MB,C,K,D = ev.build_linear_operators(Ndof,a0,he,l2g,dir_ind,out_ind,out_normals)\n"
   ]
  },
  {
   "cell_type": "markdown",
   "metadata": {},
   "source": [
    "## initial conditions and work arrays"
   ]
  },
  {
   "cell_type": "code",
   "execution_count": null,
   "metadata": {
    "collapsed": false
   },
   "outputs": [],
   "source": [
    "uh= uinit(nodes,t0)\n",
    "dt_stable = ev.choose_stable_dt(uh[l2g],dflux,he,nodes,t0)\n",
    "dt = target_cfl*dt_stable\n",
    "\n"
   ]
  },
  {
   "cell_type": "code",
   "execution_count": null,
   "metadata": {
    "collapsed": false
   },
   "outputs": [],
   "source": [
    "dfn=dflux(uh,nodes,t0)\n",
    "nu_L = low_viscosity(he,l2g,dfn)\n",
    "eta = entropy(uh,nodes,t0)\n",
    "R_e = entropy_residual(he,l2g,dt,t0,nodes,uh,uh,entropy,dflux)\n",
    "Re_norm = np.amax(np.absolute(R_e),1)\n",
    "eta_diff = entropy_normalization(eta)\n",
    "eta_jump = edge_jump(he,l2g,eta,dfn)\n",
    "Jf = np.amax(np.absolute(eta_jump[l2g]),1)\n",
    "nu_H = high_viscosity(nu_L,Re_norm,eta_diff,Jf)"
   ]
  },
  {
   "cell_type": "code",
   "execution_count": null,
   "metadata": {
    "collapsed": false
   },
   "outputs": [],
   "source": []
  },
  {
   "cell_type": "code",
   "execution_count": null,
   "metadata": {
    "collapsed": false
   },
   "outputs": [],
   "source": [
    "#save the solution and residual\n",
    "uh_save[(Nn,target_cfl)] = {}\n",
    "visc_save[(Nn,target_cfl,'low')] = {}\n",
    "visc_save[(Nn,target_cfl,'high')] = {}\n",
    "tn_save[(Nn,target_cfl)] = {}\n",
    "res_ent_save[(Nn,target_cfl)] = {}\n",
    "\n",
    "\n",
    "#\n",
    "uh_save[(Nn,target_cfl)][0] = uh\n",
    "tn_save[(Nn,target_cfl)][0] = t0\n",
    "visc_save[(Nn,target_cfl,'low')][0] = nu_L\n",
    "visc_save[(Nn,target_cfl,'high')][0] = nu_H\n",
    "res_ent_save[(Nn,target_cfl)][0] = Re_norm\n",
    "\n",
    "\n"
   ]
  },
  {
   "cell_type": "code",
   "execution_count": null,
   "metadata": {
    "collapsed": false
   },
   "outputs": [],
   "source": []
  },
  {
   "cell_type": "markdown",
   "metadata": {},
   "source": [
    "## Try to recast implementation as a flux difference"
   ]
  },
  {
   "cell_type": "code",
   "execution_count": null,
   "metadata": {
    "collapsed": false
   },
   "outputs": [],
   "source": [
    "A2tmp = Mc.data.copy()\n",
    "A2 = MB.copy()\n",
    "onevec= np.ones((Ndof,),'d')\n",
    "FCT_Rm= np.ones((Ndof,),'d')\n",
    "FCT_Rp= np.ones((Ndof,),'d')\n",
    "\n",
    "nN_local  = l2g.shape[1]\n",
    "local_row = np.array([i for i in range(nN_local) for j in range(nN_local)],dtype='int')\n",
    "local_col = np.array([i for j in range(nN_local) for i in range(nN_local)],dtype='int')\n"
   ]
  },
  {
   "cell_type": "code",
   "execution_count": null,
   "metadata": {
    "collapsed": true
   },
   "outputs": [],
   "source": []
  },
  {
   "cell_type": "code",
   "execution_count": null,
   "metadata": {
    "collapsed": true
   },
   "outputs": [],
   "source": [
    "def fe_step_no_limiting(u,t,dt,R_e,eta,first_order=True):\n",
    "    #need low order solution for viscosity for now\n",
    "    F,nu_L = ev.low_order_divergence(u,nodes,t,he,l2g,K,C,Minv,out_ind,out_normals,\n",
    "                                     flux,dflux,low_viscosity,ev.build_graph_laplacian,\n",
    "                                     include_inverse_mass=True)\n",
    "    G,nu_H = ev.high_order_divergence(u,nu_L,nodes,t,R_e,eta,he,l2g,K,C,MinvH,out_ind,out_normals,\n",
    "                                     flux,dflux,low_viscosity,high_viscosity,\n",
    "                                     edge_jump,entropy_normalization,\n",
    "                                     ev.build_graph_laplacian,\n",
    "                                     include_inverse_mass=True)\n",
    "    #use negative for rhs update\n",
    "    u1 = u.copy()\n",
    "    if first_order:\n",
    "        u1 -= dt*F\n",
    "    else:\n",
    "        u1 -= dt*G\n",
    "    return u1\n"
   ]
  },
  {
   "cell_type": "code",
   "execution_count": null,
   "metadata": {
    "collapsed": false
   },
   "outputs": [],
   "source": [
    "def fe_step_limiting(u,t,dt,R_e,eta,use_limiting=True,debug_imp=False):\n",
    "    \"\"\"\n",
    "    one forward euler step with high-order scheme and limiting\n",
    "    \"\"\"\n",
    "    \n",
    "    F,nu_L = ev.low_order_divergence(u,nodes,t,he,l2g,K,C,Minv,out_ind,out_normals,\n",
    "                                     flux,dflux,low_viscosity,ev.build_graph_laplacian,\n",
    "                                     include_inverse_mass=False)\n",
    "    G,nu_H = ev.high_order_divergence(u,nu_L,nodes,t,R_e,eta,he,l2g,K,C,MinvH,out_ind,out_normals,\n",
    "                                     flux,dflux,low_viscosity,high_viscosity,\n",
    "                                     edge_jump,entropy_normalization,\n",
    "                                     ev.build_graph_laplacian,\n",
    "                                     include_inverse_mass=False)\n",
    "\n",
    "\n",
    "\n",
    "    A1 = ev.build_A1_flux_matrix(u,nu_H,nu_L,he,dt)\n",
    "\n",
    "    A2tmp = cev.build_A2_flux_matrix(dt,G,A2.indptr,A2.indices,MB.data,A2.data)\n",
    "    A=A1+A2\n",
    "\n",
    "    U_L = u.copy(); U_L -= dt*Minv.dot(F)\n",
    "\n",
    "    \n",
    "    #mwf debug\n",
    "    A_before=A.data.copy()\n",
    "\n",
    "    if use_limiting:\n",
    "        cev.apply_fct(u,U_L,A.indptr,A.indices,M.diagonal(),A.data,\n",
    "                  FCT_Rm,FCT_Rp)\n",
    "    #mwf debug\n",
    "    #import pdb\n",
    "    #pdb.set_trace()\n",
    "    b=A.dot(onevec)\n",
    "    \n",
    "    #mwf debug\n",
    "    if debug_imp:\n",
    "        diff = Minv.dot(b)+MinvH.dot(G)\n",
    "        idiff= np.argmax(np.absolute(diff))\n",
    "        BGdiff = MB.dot(G)+A2.dot(onevec)\n",
    "        ibgdiff=np.argmax(np.absolute(BGdiff))\n",
    "        A1diff = (G-F) + A1.dot(onevec)#A1.dot(onevec)\n",
    "        iA1diff=np.argmax(np.absolute(A1diff))\n",
    "\n",
    "        MBdense=MB.todense()\n",
    "        A2dense=Mc.copy().todense();A2dense.fill(0.)\n",
    "        for I in range(uh.shape[0]):\n",
    "            for J in range(max(0,I-1),min(uh.shape[0]-1,I+2)):\n",
    "                #print 'setting I={0} J={1}'.format(I,J)\n",
    "                A2dense[I,J]=-(MBdense[I,J]*G[J]-MBdense[J,I]*G[I])\n",
    "\n",
    "        BGdiff2 = MB.dot(G)+A2dense.dot(onevec)\n",
    "        ibgdiff2=np.argmax(np.absolute(BGdiff2))\n",
    "\n",
    "\n",
    "        if np.absolute(diff[idiff]) > 1.0e-6:\n",
    "            import pdb\n",
    "            pdb.set_trace()\n",
    "\n",
    "            print 'high-order-limiting t={0} new-diff[{1}]= {2}'.format(t,idiff,diff[idiff])\n",
    "            print 'high-order-limiting t={0} BGdiff[{1}]={2} A2.nnz={3}'.format(t,ibgdiff,\n",
    "                                                                                BGdiff[ibgdiff],\n",
    "                                                                                A2.nnz)\n",
    "            print 'high-order-limiting t={0} BGdiff2[{1}]={2}'.format(t,ibgdiff2,\n",
    "                                                                        BGdiff2[0,ibgdiff2])\n",
    "\n",
    "            print 'high-order-limiting t={0} A1diff[{1}]={2}'.format(t,iA1diff,A1diff[iA1diff])\n",
    "        #end found some difference\n",
    "    #end debugging\n",
    "    uH=Minv.dot(b)\n",
    "    uH+= U_L\n",
    "    \n",
    "    return uH\n",
    "\n"
   ]
  },
  {
   "cell_type": "markdown",
   "metadata": {},
   "source": [
    "## Time loop"
   ]
  },
  {
   "cell_type": "code",
   "execution_count": null,
   "metadata": {
    "collapsed": false
   },
   "outputs": [],
   "source": [
    "t = t0; istep=0\n",
    "uh0= uinit(nodes,t0)\n",
    "uh=uh0.copy()\n",
    "##enforce constraints\n",
    "uh[dir_ind]=dir_values\n",
    "\n",
    "dt_stable = ev.choose_stable_dt(uh[l2g],dflux,he,nodes,t0)\n",
    "dt = target_cfl*dt_stable\n",
    "uhn=uh.copy()\n",
    "\n",
    "R_e = entropy_residual(he,l2g,dt,t0,nodes,uh,uhn,entropy,dflux)\n",
    "eta = entropy(uh,nodes,t)\n",
    "\n",
    "while t < T:\n",
    "    \n",
    "    uh,t,R_e,eta = ev.ssp_rk3_ev(uhn,t,dt,fe_step_limiting,R_e,eta,\n",
    "                                 entropy_residual,he,l2g,nodes,entropy,dflux)\n",
    "    #update for next time step\n",
    "    \n",
    "    #save viscosities for comparison as well\n",
    "    dfn=dflux(uh,nodes,t0)\n",
    "    nu_L = low_viscosity(he,l2g,dfn)\n",
    "    Re_norm = np.amax(np.absolute(R_e),1)\n",
    "    eta_diff = entropy_normalization(eta)\n",
    "    eta_jump = edge_jump(he,l2g,eta,dfn)\n",
    "    Jf = np.amax(np.absolute(eta_jump[l2g]),1)\n",
    "    nu_H = high_viscosity(nu_L,Re_norm,eta_diff,Jf)\n",
    "\n",
    "\n",
    "    #cycle solution\n",
    "    uhn[:] = uh[:]\n",
    "    dt_stable = ev.choose_stable_dt(uh[l2g],dflux,he,nodes,t)\n",
    "    dt = target_cfl*dt_stable\n",
    "    #save for evaluation later\n",
    "    uh_save[(Nn,target_cfl)][istep+1]=uh.copy()\n",
    "    visc_save[(Nn,target_cfl,'low')][istep+1]=nu_L.copy()\n",
    "    visc_save[(Nn,target_cfl,'high')][istep+1]=nu_H.copy()\n",
    "    res_ent_save[(Nn,target_cfl)][istep+1] = np.amax(np.absolute(R_e),1)\n",
    "    tn_save[(Nn,target_cfl)][istep+1]=t\n",
    "    \n",
    "    istep += 1\n",
    "\n"
   ]
  },
  {
   "cell_type": "code",
   "execution_count": null,
   "metadata": {
    "collapsed": false
   },
   "outputs": [],
   "source": [
    "idt = len(uh_save[(Nn,target_cfl)].keys())-1"
   ]
  },
  {
   "cell_type": "code",
   "execution_count": null,
   "metadata": {
    "collapsed": false
   },
   "outputs": [],
   "source": [
    "idt"
   ]
  },
  {
   "cell_type": "code",
   "execution_count": null,
   "metadata": {
    "collapsed": false
   },
   "outputs": [],
   "source": [
    "plt.plot(nodes,uh_save[(Nn,target_cfl)][idt-1])\n",
    "plt.xlabel('x'); plt.ylabel('u')"
   ]
  },
  {
   "cell_type": "code",
   "execution_count": null,
   "metadata": {
    "collapsed": false
   },
   "outputs": [],
   "source": [
    "plt.plot(0.5*(nodes[0:-1]+nodes[1:]),res_ent_save[(Nn,target_cfl)][3])\n",
    "plt.xlabel('x'); plt.ylabel('$R_e$')"
   ]
  },
  {
   "cell_type": "code",
   "execution_count": null,
   "metadata": {
    "collapsed": true
   },
   "outputs": [],
   "source": [
    "save_a_copy=False\n",
    "if save_a_copy:\n",
    "    key='high_order_limiting_log_entropy'\n",
    "    uh_save[(Nn,target_cfl,key)]={}\n",
    "    for idt in range(nsnap):\n",
    "        uh_save[(Nn,target_cfl,key)][idt]=uh_save[(Nn,target_cfl)][idt].copy()"
   ]
  },
  {
   "cell_type": "code",
   "execution_count": null,
   "metadata": {
    "collapsed": false
   },
   "outputs": [],
   "source": [
    "#IPython 4 from ipywidgets import interact\n",
    "from IPython.html.widgets import interact\n",
    "\n",
    "nsnap = len(uh_save[(Nn,target_cfl)])\n",
    "def plot_soln(idt):\n",
    "    key='high_order'\n",
    "    plt.plot(nodes,uh_save[(Nn,target_cfl)][idt],'b-')\n",
    "    #plt.plot(nodes,uh_save[(Nn,target_cfl)][idt],'b-',\n",
    "    #         nodes,uh_save[(Nn,target_cfl,'high_order')][idt],'g-',\n",
    "    #         nodes,uh_save[(Nn,target_cfl,'new_high_order')][idt],'r-',\n",
    "    #         nodes,uh_save[(Nn,target_cfl,'low_order')][idt],'k-')\n",
    "    #plt.plot(nodes,uh_save[(Nn,target_cfl,key)][idt],'b-',\n",
    "    #         nodes,uh_save[(Nn,target_cfl)][idt],'r-')\n",
    "\n",
    "\n",
    "    u_min=min(u_left,u_midd,u_right); u_max=max(u_left,u_midd,u_right)\n",
    "    plt.ylim([min(1.05*u_min,0.95*u_min),max(1.05*u_max,0.95*u_max)])\n",
    "    plt.xlabel('x'); plt.ylabel('u')\n",
    "def plot_entropy_residual(idt):\n",
    "    plt.plot(0.5*(nodes[0:-1]+nodes[1:]),res_ent_save[(Nn,target_cfl)][idt])\n",
    "    plt.xlabel('x'); plt.ylabel('$R_e$')    \n",
    "def plot_viscosities(idt):\n",
    "    plt.plot(0.5*(nodes[0:-1]+nodes[1:]),visc_save[(Nn,target_cfl,'low')][idt],'b-',\n",
    "             0.5*(nodes[0:-1]+nodes[1:]),visc_save[(Nn,target_cfl,'high')][idt],'r-')\n",
    "    plt.xlabel('x'); plt.ylabel('visc.')\n",
    "def plot_entropies(idt):\n",
    "    plt.plot(nodes,entropy(uh_save[(Nn,target_cfl)][idt],nodes,tn_save[(Nn,target_cfl)]),'b-')\n",
    "    plt.xlabel('x'); plt.ylabel('entropy')    "
   ]
  },
  {
   "cell_type": "code",
   "execution_count": null,
   "metadata": {
    "collapsed": false
   },
   "outputs": [],
   "source": [
    "interact(plot_soln,idt=(0,nsnap-1,1))"
   ]
  },
  {
   "cell_type": "code",
   "execution_count": null,
   "metadata": {
    "collapsed": false
   },
   "outputs": [],
   "source": [
    "interact(plot_entropy_residual,idt=(0,nsnap-1,1))"
   ]
  },
  {
   "cell_type": "code",
   "execution_count": null,
   "metadata": {
    "collapsed": false
   },
   "outputs": [],
   "source": [
    "interact(plot_viscosities,idt=(0,nsnap-1,1))"
   ]
  },
  {
   "cell_type": "code",
   "execution_count": null,
   "metadata": {
    "collapsed": false
   },
   "outputs": [],
   "source": [
    "interact(plot_entropies,idt=(0,nsnap-1,1))"
   ]
  },
  {
   "cell_type": "code",
   "execution_count": null,
   "metadata": {
    "collapsed": true
   },
   "outputs": [],
   "source": [
    "save_data_file=False\n",
    "if save_data_file:\n",
    "    key=key=(51,target_cfl,'high_order')\n",
    "    np.savetxt('burgers_nn_x_nn{0:d}.dat'.format(key[0]),nodes)\n",
    "    idt=len(uh_save[key])\n",
    "    tmp=np.zeros((Nn,idt),'d')\n",
    "    for i in range(idt):\n",
    "        tmp[:,i]=uh_save[key][i]\n",
    "    np.savetxt('burgers_nn{0:d}_cfl{1:3.2f}_{2}.dat'.format(*key),tmp)"
   ]
  },
  {
   "cell_type": "code",
   "execution_count": null,
   "metadata": {
    "collapsed": true
   },
   "outputs": [],
   "source": []
  },
  {
   "cell_type": "code",
   "execution_count": null,
   "metadata": {
    "collapsed": true
   },
   "outputs": [],
   "source": []
  }
 ],
 "metadata": {
  "kernelspec": {
   "display_name": "Python 2",
   "language": "python",
   "name": "python2"
  },
  "language_info": {
   "codemirror_mode": {
    "name": "ipython",
    "version": 2
   },
   "file_extension": ".py",
   "mimetype": "text/x-python",
   "name": "python",
   "nbconvert_exporter": "python",
   "pygments_lexer": "ipython2",
   "version": "2.7.9"
  }
 },
 "nbformat": 4,
 "nbformat_minor": 0
}
